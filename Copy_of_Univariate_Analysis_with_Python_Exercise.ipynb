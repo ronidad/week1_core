{
  "nbformat": 4,
  "nbformat_minor": 0,
  "metadata": {
    "colab": {
      "name": "Copy of Univariate Analysis with Python - Exercise",
      "provenance": [],
      "collapsed_sections": [],
      "toc_visible": true
    },
    "kernelspec": {
      "name": "python3",
      "display_name": "Python 3"
    }
  },
  "cells": [
    {
      "cell_type": "markdown",
      "metadata": {
        "id": "adeOETQPnPAj"
      },
      "source": [
        "<font color=\"green\">*To start working on this notebook, or any other notebook that we will use in the Moringa Data Science Course, we will need to save our own copy of it. We can do this by clicking File > Save a Copy in Drive. We will then be able to make edits to our own copy of this notebook.*</font>"
      ]
    },
    {
      "cell_type": "markdown",
      "metadata": {
        "id": "FtNfyN9C1FSE"
      },
      "source": [
        "# Univariate Analysis with Python - Exercise"
      ]
    },
    {
      "cell_type": "markdown",
      "metadata": {
        "id": "kLkivweO1Iii"
      },
      "source": [
        "## 1.0 Importing Libraries"
      ]
    },
    {
      "cell_type": "code",
      "metadata": {
        "id": "7rB0TURq1Mfo"
      },
      "source": [
        "# Importing Pandas\n",
        "# \n",
        "import pandas as pd"
      ],
      "execution_count": null,
      "outputs": []
    },
    {
      "cell_type": "code",
      "metadata": {
        "id": "J7sTS1pS6w17"
      },
      "source": [
        "# Importing Numpy\n",
        "#\n",
        "import numpy as np"
      ],
      "execution_count": null,
      "outputs": []
    },
    {
      "cell_type": "code",
      "metadata": {
        "id": "T7fU_A8G3j2c"
      },
      "source": [
        "# Importing Seaborn\n",
        "#\n",
        "import seaborn as sns"
      ],
      "execution_count": null,
      "outputs": []
    },
    {
      "cell_type": "code",
      "metadata": {
        "id": "h9m2KAfqKr_R"
      },
      "source": [
        "# Importing Matplotlib\n",
        "#\n",
        "import matplotlib.pyplot as plt"
      ],
      "execution_count": null,
      "outputs": []
    },
    {
      "cell_type": "markdown",
      "metadata": {
        "id": "InrgA2D21MCl"
      },
      "source": [
        "## 1.2 Categorical Variables"
      ]
    },
    {
      "cell_type": "markdown",
      "metadata": {
        "id": "0CRs-dFC1ohx"
      },
      "source": [
        "### 1.21 Frequency Tables"
      ]
    },
    {
      "cell_type": "code",
      "metadata": {
        "id": "S1BPZ36A1LiF",
        "colab": {
          "base_uri": "https://localhost:8080/"
        },
        "outputId": "063eb487-fb0e-43a2-87d3-6812cf1f0c58"
      },
      "source": [
        "# Example 1\n",
        "# ---\n",
        "# Creating Frequency table of column using the value_counts() function\n",
        "# ---\n",
        "# \n",
        "\n",
        "data = {'Name':['John', 'Paul', 'Jame','Mark', 'Susan', 'Ruth', 'Ragna', 'Irene', 'Gilbert', 'Esther', 'Salome', 'Moses'],\n",
        "       'County':['Nairobi', 'Kiambu', 'Mombasa', 'Kisumu', 'Kiambu', 'Mombasa', 'Nairobi', 'Mombasa', 'Kisumu', 'Nairobi', 'Kiambu','Mombasa']}\n",
        " \n",
        "# Creating our dataframe\n",
        "frequency_df = pd.DataFrame(data, columns=['Name', 'County'])\n",
        "frequency_df\n",
        "\n",
        "# Creating our frequency table\n",
        "# ---\n",
        "frequency_df.County.value_counts()"
      ],
      "execution_count": null,
      "outputs": [
        {
          "output_type": "execute_result",
          "data": {
            "text/plain": [
              "Mombasa    4\n",
              "Kiambu     3\n",
              "Nairobi    3\n",
              "Kisumu     2\n",
              "Name: County, dtype: int64"
            ]
          },
          "metadata": {},
          "execution_count": 6
        }
      ]
    },
    {
      "cell_type": "markdown",
      "metadata": {
        "id": "ck0zE_a43uV-"
      },
      "source": [
        "#### <font color=\"green\">1.21 Challenges</font>"
      ]
    },
    {
      "cell_type": "code",
      "metadata": {
        "id": "UNbhFPzR33L6",
        "colab": {
          "base_uri": "https://localhost:8080/"
        },
        "outputId": "aa7ec3a1-0663-473f-fc4e-ef72a7c74f51"
      },
      "source": [
        "# Challenge 1\n",
        "# ---\n",
        "# Question: Generate a frequency table from the categorical data in the following dataset\n",
        "# ---\n",
        "# Dataset url = http://bit.ly/IrisDataset\n",
        "# ---\n",
        "# \n",
        "iris=pd.read_csv(\"http://bit.ly/IrisDataset\")\n",
        "iris.head()\n",
        "#generate frequency table\n",
        "iris.species.value_counts()"
      ],
      "execution_count": null,
      "outputs": [
        {
          "output_type": "execute_result",
          "data": {
            "text/plain": [
              "Iris-versicolor    50\n",
              "Iris-setosa        50\n",
              "Iris-virginica     50\n",
              "Name: species, dtype: int64"
            ]
          },
          "metadata": {},
          "execution_count": 8
        }
      ]
    },
    {
      "cell_type": "markdown",
      "metadata": {
        "id": "NCrhoYJz1dUY"
      },
      "source": [
        "### 1.22 Bar Charts and Histograms"
      ]
    },
    {
      "cell_type": "code",
      "metadata": {
        "id": "_3kf4a5q1ylu",
        "colab": {
          "base_uri": "https://localhost:8080/",
          "height": 295
        },
        "outputId": "48e488b1-d7b0-4d65-a1c5-c0b6fa7bdbda"
      },
      "source": [
        "# Example 1\n",
        "# ---\n",
        "# Bar charts are used to display values associated with categorical data.\n",
        "# ---\n",
        "# \n",
        "\n",
        "# Defining our data\n",
        "x = ['Nuclear', 'Hydro', 'Gas', 'Oil', 'Coal', 'Biofuel']\n",
        "energy = [5, 6, 15, 22, 24, 8]\n",
        " \n",
        "\n",
        "plt.bar(x, energy, color='green')\n",
        "\n",
        "# Labelling our x axis\n",
        "plt.xlabel(\"Energy Source\")\n",
        "\n",
        "# Labelling our y axis\n",
        "plt.ylabel(\"Energy Output (GJ)\")\n",
        "\n",
        "# Giving a title to our Bar chart\n",
        "plt.title(\"Energy output from various fuel sources\")\n",
        "\n",
        "# Displaying our chart\n",
        "plt.show()"
      ],
      "execution_count": null,
      "outputs": [
        {
          "output_type": "display_data",
          "data": {
            "image/png": "[encoded data removed]",
            "text/plain": [
              "<Figure size 432x288 with 1 Axes>"
            ]
          },
          "metadata": {
            "needs_background": "light"
          }
        }
      ]
    },
    {
      "cell_type": "code",
      "metadata": {
        "id": "RWgB6pZg3-o6",
        "colab": {
          "base_uri": "https://localhost:8080/",
          "height": 295
        },
        "outputId": "f01eb68d-dafb-48ec-a754-95893a67431d"
      },
      "source": [
        "# Example 2\n",
        "# ---\n",
        "# We can also create the exact same chart horizontally as shown \n",
        "# ---\n",
        "# \n",
        "\n",
        "x = ['Nuclear', 'Hydro', 'Gas', 'Oil', 'Coal', 'Biofuel']\n",
        "energy = [15, 16, 25, 32, 34, 18]  \n",
        "\n",
        "plt.barh(x, energy)\n",
        "plt.ylabel(\"Energy Source\")\n",
        "plt.xlabel(\"Energy Output (GJ)\")\n",
        "plt.title(\"Energy output from various fuel sources\")\n",
        "plt.show()"
      ],
      "execution_count": null,
      "outputs": [
        {
          "output_type": "display_data",
          "data": {
            "image/png": "[encoded data removed]",
            "text/plain": [
              "<Figure size 432x288 with 1 Axes>"
            ]
          },
          "metadata": {
            "needs_background": "light"
          }
        }
      ]
    },
    {
      "cell_type": "code",
      "metadata": {
        "id": "n21agJh93_w0",
        "colab": {
          "base_uri": "https://localhost:8080/",
          "height": 295
        },
        "outputId": "1f76a0eb-3254-42f6-814b-ce110b82ae28"
      },
      "source": [
        "# Example 3\n",
        "# ---\n",
        "# Very much like a bar chart, histograms tend to show distribution by grouping segments together. \n",
        "# Examples of this might be age groups, or scores on a test. \n",
        "# Rather than showing every single age a group might be, maybe you just show people from 20-25, 25-30... and so on.\n",
        "# ---\n",
        "#\n",
        "\n",
        "population_ages = [22, 55, 62, 45, 21, 22, 34, 42, 42, 4, 99, 102, 110, 120, 121, 122, 130, 111, 115, 112, 80, 75, 65, 54, 44, 43, 42, 48]\n",
        "bins            = [0, 10, 20, 30, 40, 50, 60, 70, 80, 90, 100, 110, 120, 130]\n",
        "\n",
        "plt.hist(population_ages, bins=10, histtype='bar', rwidth=0.9)\n",
        "\n",
        "plt.xlabel('x')\n",
        "plt.ylabel('y')\n",
        "plt.title('Histogram of Population') \n",
        "plt.show()"
      ],
      "execution_count": null,
      "outputs": [
        {
          "output_type": "display_data",
          "data": {
            "image/png": "[encoded data removed]",
            "text/plain": [
              "<Figure size 432x288 with 1 Axes>"
            ]
          },
          "metadata": {
            "needs_background": "light"
          }
        }
      ]
    },
    {
      "cell_type": "code",
      "metadata": {
        "id": "eGXHLiBY8jbI",
        "colab": {
          "base_uri": "https://localhost:8080/",
          "height": 459
        },
        "outputId": "81f520e3-c1f0-4abe-93df-27d5d33305f3"
      },
      "source": [
        "# Example 4\n",
        "# ---\n",
        "# Creating a histogram from a given dataset using values from the points column\n",
        "# ---\n",
        "# Dataset url = http://bit.ly/WineDataset\n",
        "# ---\n",
        "#\n",
        "\n",
        "# Loading out dataset\n",
        "wine_df = pd.read_csv(\"http://bit.ly/WineDataset\")\n",
        "wine_df.head()\n",
        "#wine_points = wine_df['points']\n",
        "\n",
        "#plt.hist(wine_points, bins=10, histtype='bar', rwidth=0.9)\n",
        "#plt.xlabel('No. of Wines')\n",
        "#plt.ylabel('Quantity')\n",
        "#plt.title('Histogram of Points of Wine vs No. of Wines')\n",
        "#plt.show()"
      ],
      "execution_count": null,
      "outputs": [
        {
          "output_type": "execute_result",
          "data": {
            "text/html": [
              "<div>\n",
              "<style scoped>\n",
              "    .dataframe tbody tr th:only-of-type {\n",
              "        vertical-align: middle;\n",
              "    }\n",
              "\n",
              "    .dataframe tbody tr th {\n",
              "        vertical-align: top;\n",
              "    }\n",
              "\n",
              "    .dataframe thead th {\n",
              "        text-align: right;\n",
              "    }\n",
              "</style>\n",
              "<table border=\"1\" class=\"dataframe\">\n",
              "  <thead>\n",
              "    <tr style=\"text-align: right;\">\n",
              "      <th></th>\n",
              "      <th>Unnamed: 0</th>\n",
              "      <th>country</th>\n",
              "      <th>description</th>\n",
              "      <th>designation</th>\n",
              "      <th>points</th>\n",
              "      <th>price</th>\n",
              "      <th>province</th>\n",
              "      <th>region_1</th>\n",
              "      <th>region_2</th>\n",
              "      <th>variety</th>\n",
              "      <th>winery</th>\n",
              "    </tr>\n",
              "  </thead>\n",
              "  <tbody>\n",
              "    <tr>\n",
              "      <th>0</th>\n",
              "      <td>0</td>\n",
              "      <td>US</td>\n",
              "      <td>This tremendous 100% varietal wine hails from ...</td>\n",
              "      <td>Martha's Vineyard</td>\n",
              "      <td>96</td>\n",
              "      <td>235.0</td>\n",
              "      <td>California</td>\n",
              "      <td>Napa Valley</td>\n",
              "      <td>Napa</td>\n",
              "      <td>Cabernet Sauvignon</td>\n",
              "      <td>Heitz</td>\n",
              "    </tr>\n",
              "    <tr>\n",
              "      <th>1</th>\n",
              "      <td>1</td>\n",
              "      <td>Spain</td>\n",
              "      <td>Ripe aromas of fig, blackberry and cassis are ...</td>\n",
              "      <td>Carodorum Selección Especial Reserva</td>\n",
              "      <td>96</td>\n",
              "      <td>110.0</td>\n",
              "      <td>Northern Spain</td>\n",
              "      <td>Toro</td>\n",
              "      <td>NaN</td>\n",
              "      <td>Tinta de Toro</td>\n",
              "      <td>Bodega Carmen Rodríguez</td>\n",
              "    </tr>\n",
              "    <tr>\n",
              "      <th>2</th>\n",
              "      <td>2</td>\n",
              "      <td>US</td>\n",
              "      <td>Mac Watson honors the memory of a wine once ma...</td>\n",
              "      <td>Special Selected Late Harvest</td>\n",
              "      <td>96</td>\n",
              "      <td>90.0</td>\n",
              "      <td>California</td>\n",
              "      <td>Knights Valley</td>\n",
              "      <td>Sonoma</td>\n",
              "      <td>Sauvignon Blanc</td>\n",
              "      <td>Macauley</td>\n",
              "    </tr>\n",
              "    <tr>\n",
              "      <th>3</th>\n",
              "      <td>3</td>\n",
              "      <td>US</td>\n",
              "      <td>This spent 20 months in 30% new French oak, an...</td>\n",
              "      <td>Reserve</td>\n",
              "      <td>96</td>\n",
              "      <td>65.0</td>\n",
              "      <td>Oregon</td>\n",
              "      <td>Willamette Valley</td>\n",
              "      <td>Willamette Valley</td>\n",
              "      <td>Pinot Noir</td>\n",
              "      <td>Ponzi</td>\n",
              "    </tr>\n",
              "    <tr>\n",
              "      <th>4</th>\n",
              "      <td>4</td>\n",
              "      <td>France</td>\n",
              "      <td>This is the top wine from La Bégude, named aft...</td>\n",
              "      <td>La Brûlade</td>\n",
              "      <td>95</td>\n",
              "      <td>66.0</td>\n",
              "      <td>Provence</td>\n",
              "      <td>Bandol</td>\n",
              "      <td>NaN</td>\n",
              "      <td>Provence red blend</td>\n",
              "      <td>Domaine de la Bégude</td>\n",
              "    </tr>\n",
              "  </tbody>\n",
              "</table>\n",
              "</div>"
            ],
            "text/plain": [
              "   Unnamed: 0 country  ...             variety                   winery\n",
              "0           0      US  ...  Cabernet Sauvignon                    Heitz\n",
              "1           1   Spain  ...       Tinta de Toro  Bodega Carmen Rodríguez\n",
              "2           2      US  ...     Sauvignon Blanc                 Macauley\n",
              "3           3      US  ...          Pinot Noir                    Ponzi\n",
              "4           4  France  ...  Provence red blend     Domaine de la Bégude\n",
              "\n",
              "[5 rows x 11 columns]"
            ]
          },
          "metadata": {},
          "execution_count": 18
        }
      ]
    },
    {
      "cell_type": "markdown",
      "metadata": {
        "id": "jRKV0pa04BQH"
      },
      "source": [
        "#### <font color=\"green\">1.22 Challenges</font>"
      ]
    },
    {
      "cell_type": "code",
      "metadata": {
        "id": "VWgtpnM54Mf7",
        "colab": {
          "base_uri": "https://localhost:8080/",
          "height": 295
        },
        "outputId": "91b0e15c-8506-481a-ed48-e8af8ec311de"
      },
      "source": [
        "# Challenge 1\n",
        "# ---\n",
        "# Question: Create a bar chart given the following dataset\n",
        "# ---\n",
        "# \n",
        "languages = ('Python', 'C++', 'Java', 'Perl', 'Scala', 'Lisp') \n",
        "performance = [20, 18, 66, 14, 12, 11]\n",
        "\n",
        "plt.bar(languages, performance, color='red')\n",
        "\n",
        "# Labelling our x axis\n",
        "plt.xlabel(\"languages\")\n",
        "\n",
        "# Labelling our y axis\n",
        "plt.ylabel(\"performance\")\n",
        "\n",
        "# Giving a title to our Bar chart\n",
        "plt.title(\"languages vs performance\")\n",
        "\n",
        "# Displaying our chart\n",
        "plt.show()"
      ],
      "execution_count": null,
      "outputs": [
        {
          "output_type": "display_data",
          "data": {
            "image/png": "[encoded data removed]",
            "text/plain": [
              "<Figure size 432x288 with 1 Axes>"
            ]
          },
          "metadata": {
            "needs_background": "light"
          }
        }
      ]
    },
    {
      "cell_type": "code",
      "metadata": {
        "id": "FUy2tpOl4Nax",
        "colab": {
          "base_uri": "https://localhost:8080/",
          "height": 295
        },
        "outputId": "2a067e33-3728-475e-faf4-6d5a55488720"
      },
      "source": [
        "# Challenge 2\n",
        "# ---\n",
        "# Question: Create a histogram from the following data\n",
        "# ---\n",
        "# \n",
        "x = [21, 22, 23, 4, 5, 6, 77, 8, 9, 10, 31, 32, 33, 34, 35, 36, 37, 18, 49, 50, 100]\n",
        "num_bins = 5\n",
        "\n",
        "plt.hist(x,bins=5,histtype='bar',rwidth=0.9)\n",
        "plt.xlabel(\"x\")\n",
        "plt.ylabel(\"y\")\n",
        "plt.title(\"x vs y\")\n",
        "plt.show()\n"
      ],
      "execution_count": null,
      "outputs": [
        {
          "output_type": "display_data",
          "data": {
            "image/png": "[encoded data removed]",
            "text/plain": [
              "<Figure size 432x288 with 1 Axes>"
            ]
          },
          "metadata": {
            "needs_background": "light"
          }
        }
      ]
    },
    {
      "cell_type": "code",
      "metadata": {
        "id": "eQV9iT2u4Po_",
        "colab": {
          "base_uri": "https://localhost:8080/",
          "height": 296
        },
        "outputId": "ec214612-a393-44b3-fc03-23dfc69858be"
      },
      "source": [
        "# Challenge 3\n",
        "# ---\n",
        "# Question: Create a histogram from a given dataset using values from the sepal length column\n",
        "# ---\n",
        "# Dataset url = http://bit.ly/IrisDataset\n",
        "# ---\n",
        "# \n",
        "iris_df=pd.read_csv(\"http://bit.ly/IrisDataset\")\n",
        "iris_df.head()\n",
        "sepal_length=iris_df[\"sepal_length\"]\n",
        "plt.hist(sepal_length,bins=10,histtype=\"bar\",rwidth=0.9)\n",
        "plt.xlabel(\"sepal_length\")\n",
        "plt.ylabel(\"y\")\n",
        "plt.title(\"sepal_length\")\n",
        "plt.show()"
      ],
      "execution_count": null,
      "outputs": [
        {
          "output_type": "display_data",
          "data": {
            "image/png": "[encoded data removed]",
            "text/plain": [
              "<Figure size 432x288 with 1 Axes>"
            ]
          },
          "metadata": {
            "needs_background": "light"
          }
        }
      ]
    },
    {
      "cell_type": "markdown",
      "metadata": {
        "id": "yXH8QAl71vLq"
      },
      "source": [
        "### 1.23 Pie Charts"
      ]
    },
    {
      "cell_type": "code",
      "metadata": {
        "id": "UXYA0eoB09kd",
        "colab": {
          "base_uri": "https://localhost:8080/",
          "height": 268
        },
        "outputId": "459eb205-1de4-46f4-ee58-8b48ce879405"
      },
      "source": [
        "# Example 1\n",
        "# ---\n",
        "# Question: Create a pie chart usig the sizes list given below\n",
        "# ---\n",
        "#\n",
        "\n",
        "# Defining our labels, sizes, colors and explode (this will explode the 1st slice)\n",
        "labels = 'Python', 'C++', 'Ruby', 'Java'\n",
        "sizes  = [215, 130, 245, 210]\n",
        "colors = ['gold', 'yellowgreen', 'lightcoral', 'lightskyblue']\n",
        "\n",
        "# Highlights a particular Value in plot\n",
        "explode = (0.1, 0, 0, 0)  \n",
        "\n",
        "# Plotting our pie chart\n",
        "plt.pie(sizes, explode=explode, labels=labels, colors=colors,\n",
        "autopct='%1.1f%%', shadow=True, startangle=140)\n",
        "\n",
        "plt.axis('equal')\n",
        "plt.title('Pie Chart of Programming Languages')\n",
        "plt.show()"
      ],
      "execution_count": null,
      "outputs": [
        {
          "output_type": "display_data",
          "data": {
            "image/png": "[encoded data removed]",
            "text/plain": [
              "<Figure size 432x288 with 1 Axes>"
            ]
          },
          "metadata": {}
        }
      ]
    },
    {
      "cell_type": "code",
      "metadata": {
        "id": "4IIwpXsF4To9",
        "colab": {
          "base_uri": "https://localhost:8080/",
          "height": 264
        },
        "outputId": "d11ded9d-1c8b-434c-9386-62cc96792b26"
      },
      "source": [
        "# Example 2\n",
        "# ---\n",
        "# Question: Create a pie chart to show the distribution of age and population\n",
        "# ---\n",
        "# \n",
        "\n",
        "# Loading out dataset\n",
        "df = pd.read_csv(\"http://bit.ly/AgePopulationDataset\")\n",
        "\n",
        "# Previewing the dataset \n",
        "df.head()\n",
        "\n",
        "# Assigning our columns to population and age variables\n",
        "population = df['population']\n",
        "age        = df['age']\n",
        "\n",
        "# Plotting our pie chart\n",
        "# -------\n",
        "plt.pie(population, labels = age, autopct = '%1.1f%%', shadow = True, startangle = 140)\n",
        "plt.axis('equal')\n",
        "plt.title('Pie Chart of Age population')\n",
        "plt.show()"
      ],
      "execution_count": null,
      "outputs": [
        {
          "output_type": "display_data",
          "data": {
            "image/png": "[encoded data removed]",
            "text/plain": [
              "<Figure size 432x288 with 1 Axes>"
            ]
          },
          "metadata": {}
        }
      ]
    },
    {
      "cell_type": "markdown",
      "metadata": {
        "id": "6lNbN0xS4XAY"
      },
      "source": [
        "#### <font color=\"green\">1.23 Challenges</font>"
      ]
    },
    {
      "cell_type": "code",
      "metadata": {
        "id": "SDYT8o0U4WE9",
        "colab": {
          "base_uri": "https://localhost:8080/",
          "height": 264
        },
        "outputId": "80d5ff1b-44e3-447e-9d22-9f47d586f40a"
      },
      "source": [
        "# Challenge 1\n",
        "# ---\n",
        "# Question: Create a pie chart of county population given the following\n",
        "# ---\n",
        "# \n",
        "\n",
        "county_population = [12344408, 2441523, 30523371, 110012442, 47886051]\n",
        "counties = ['Thika', 'Mombasa', 'Kisumu', 'Nairobi', 'Nakuru']\n",
        "\n",
        "plt.pie(county_population,labels=counties,autopct = '%1.1f%%',shadow=True,startangle=140)\n",
        "plt.axis(\"equal\")\n",
        "plt.title(\"pie chart of county population\")\n",
        "plt.show()"
      ],
      "execution_count": null,
      "outputs": [
        {
          "output_type": "display_data",
          "data": {
            "image/png": "[encoded data removed]",
            "text/plain": [
              "<Figure size 432x288 with 1 Axes>"
            ]
          },
          "metadata": {}
        }
      ]
    },
    {
      "cell_type": "code",
      "metadata": {
        "id": "xRcsBrgL4jDB",
        "colab": {
          "base_uri": "https://localhost:8080/",
          "height": 643
        },
        "outputId": "88fd5866-6361-4842-d2c0-182363045b11"
      },
      "source": [
        "# Challenge 2\n",
        "# ---\n",
        "# Question: Acting as Chief Data Strategist for a ride sharing company, \n",
        "# you are expected to offer data-backed guidance on new opportunities for market differentiation.\n",
        "# Merge the two datasets into a single dataset based on the cities they share then \n",
        "# produce the following pie chart: Pie Chart of % of Total Fares by City Type.\n",
        "# Hint: When making the pie Chart, experiment with effects like shadow, startangle, and explosion\n",
        "# ---\n",
        "# Dataset 1 url = http://bit.ly/City-RideDataset\n",
        "# Dataset 2 url = http://bit.ly/RideDataset\n",
        "# ---\n",
        "#\n",
        "dsone=pd.read_csv(\"http://bit.ly/City-RideDataset\")\n",
        "dstwo=pd.read_csv(\"http://bit.ly/RideDataset\")\n",
        "merged=pd.merge(dsone,dstwo)\n",
        "#city=merged['city']\n",
        "#?explode\n",
        "merged.head()\n",
        "#total fares by city type\n",
        "totalfares=merged.groupby(['city']).sum()\n",
        "#label=totalfares['city']\n",
        "label=list(totalfares.columns.values)\n",
        "plt.pie(totalfares,labels=label,autopct = '%1.1f%%',shadow=True,startangle=140)\n",
        "plt.axis('equal')\n",
        "plt.title('Pie Chart of % of Total Fares by City Type')\n",
        "plt.show()"
      ],
      "execution_count": null,
      "outputs": [
        {
          "output_type": "error",
          "ename": "ValueError",
          "evalue": "ignored",
          "traceback": [
            "\u001b[0;31m---------------------------------------------------------------------------\u001b[0m",
            "\u001b[0;31mValueError\u001b[0m                                Traceback (most recent call last)",
            "\u001b[0;32m<ipython-input-11-2728600385d7>\u001b[0m in \u001b[0;36m<module>\u001b[0;34m()\u001b[0m\n\u001b[1;32m     21\u001b[0m \u001b[0;31m#label=totalfares['city']\u001b[0m\u001b[0;34m\u001b[0m\u001b[0;34m\u001b[0m\u001b[0;34m\u001b[0m\u001b[0m\n\u001b[1;32m     22\u001b[0m \u001b[0mlabel\u001b[0m\u001b[0;34m=\u001b[0m\u001b[0mlist\u001b[0m\u001b[0;34m(\u001b[0m\u001b[0mtotalfares\u001b[0m\u001b[0;34m.\u001b[0m\u001b[0mcolumns\u001b[0m\u001b[0;34m.\u001b[0m\u001b[0mvalues\u001b[0m\u001b[0;34m)\u001b[0m\u001b[0;34m\u001b[0m\u001b[0;34m\u001b[0m\u001b[0m\n\u001b[0;32m---> 23\u001b[0;31m \u001b[0mplt\u001b[0m\u001b[0;34m.\u001b[0m\u001b[0mpie\u001b[0m\u001b[0;34m(\u001b[0m\u001b[0mtotalfares\u001b[0m\u001b[0;34m,\u001b[0m\u001b[0mlabels\u001b[0m\u001b[0;34m=\u001b[0m\u001b[0mlabel\u001b[0m\u001b[0;34m,\u001b[0m\u001b[0mautopct\u001b[0m \u001b[0;34m=\u001b[0m \u001b[0;34m'%1.1f%%'\u001b[0m\u001b[0;34m,\u001b[0m\u001b[0mshadow\u001b[0m\u001b[0;34m=\u001b[0m\u001b[0;32mTrue\u001b[0m\u001b[0;34m,\u001b[0m\u001b[0mstartangle\u001b[0m\u001b[0;34m=\u001b[0m\u001b[0;36m140\u001b[0m\u001b[0;34m)\u001b[0m\u001b[0;34m\u001b[0m\u001b[0;34m\u001b[0m\u001b[0m\n\u001b[0m\u001b[1;32m     24\u001b[0m \u001b[0mplt\u001b[0m\u001b[0;34m.\u001b[0m\u001b[0maxis\u001b[0m\u001b[0;34m(\u001b[0m\u001b[0;34m'equal'\u001b[0m\u001b[0;34m)\u001b[0m\u001b[0;34m\u001b[0m\u001b[0;34m\u001b[0m\u001b[0m\n\u001b[1;32m     25\u001b[0m \u001b[0mplt\u001b[0m\u001b[0;34m.\u001b[0m\u001b[0mtitle\u001b[0m\u001b[0;34m(\u001b[0m\u001b[0;34m'Pie Chart of % of Total Fares by City Type'\u001b[0m\u001b[0;34m)\u001b[0m\u001b[0;34m\u001b[0m\u001b[0;34m\u001b[0m\u001b[0m\n",
            "\u001b[0;32m/usr/local/lib/python3.7/dist-packages/matplotlib/pyplot.py\u001b[0m in \u001b[0;36mpie\u001b[0;34m(x, explode, labels, colors, autopct, pctdistance, shadow, labeldistance, startangle, radius, counterclock, wedgeprops, textprops, center, frame, rotatelabels, data)\u001b[0m\n\u001b[1;32m   2753\u001b[0m         \u001b[0mwedgeprops\u001b[0m\u001b[0;34m=\u001b[0m\u001b[0mwedgeprops\u001b[0m\u001b[0;34m,\u001b[0m \u001b[0mtextprops\u001b[0m\u001b[0;34m=\u001b[0m\u001b[0mtextprops\u001b[0m\u001b[0;34m,\u001b[0m \u001b[0mcenter\u001b[0m\u001b[0;34m=\u001b[0m\u001b[0mcenter\u001b[0m\u001b[0;34m,\u001b[0m\u001b[0;34m\u001b[0m\u001b[0;34m\u001b[0m\u001b[0m\n\u001b[1;32m   2754\u001b[0m         frame=frame, rotatelabels=rotatelabels, **({\"data\": data} if\n\u001b[0;32m-> 2755\u001b[0;31m         data is not None else {}))\n\u001b[0m\u001b[1;32m   2756\u001b[0m \u001b[0;34m\u001b[0m\u001b[0m\n\u001b[1;32m   2757\u001b[0m \u001b[0;34m\u001b[0m\u001b[0m\n",
            "\u001b[0;32m/usr/local/lib/python3.7/dist-packages/matplotlib/__init__.py\u001b[0m in \u001b[0;36minner\u001b[0;34m(ax, data, *args, **kwargs)\u001b[0m\n\u001b[1;32m   1563\u001b[0m     \u001b[0;32mdef\u001b[0m \u001b[0minner\u001b[0m\u001b[0;34m(\u001b[0m\u001b[0max\u001b[0m\u001b[0;34m,\u001b[0m \u001b[0;34m*\u001b[0m\u001b[0margs\u001b[0m\u001b[0;34m,\u001b[0m \u001b[0mdata\u001b[0m\u001b[0;34m=\u001b[0m\u001b[0;32mNone\u001b[0m\u001b[0;34m,\u001b[0m \u001b[0;34m**\u001b[0m\u001b[0mkwargs\u001b[0m\u001b[0;34m)\u001b[0m\u001b[0;34m:\u001b[0m\u001b[0;34m\u001b[0m\u001b[0;34m\u001b[0m\u001b[0m\n\u001b[1;32m   1564\u001b[0m         \u001b[0;32mif\u001b[0m \u001b[0mdata\u001b[0m \u001b[0;32mis\u001b[0m \u001b[0;32mNone\u001b[0m\u001b[0;34m:\u001b[0m\u001b[0;34m\u001b[0m\u001b[0;34m\u001b[0m\u001b[0m\n\u001b[0;32m-> 1565\u001b[0;31m             \u001b[0;32mreturn\u001b[0m \u001b[0mfunc\u001b[0m\u001b[0;34m(\u001b[0m\u001b[0max\u001b[0m\u001b[0;34m,\u001b[0m \u001b[0;34m*\u001b[0m\u001b[0mmap\u001b[0m\u001b[0;34m(\u001b[0m\u001b[0msanitize_sequence\u001b[0m\u001b[0;34m,\u001b[0m \u001b[0margs\u001b[0m\u001b[0;34m)\u001b[0m\u001b[0;34m,\u001b[0m \u001b[0;34m**\u001b[0m\u001b[0mkwargs\u001b[0m\u001b[0;34m)\u001b[0m\u001b[0;34m\u001b[0m\u001b[0;34m\u001b[0m\u001b[0m\n\u001b[0m\u001b[1;32m   1566\u001b[0m \u001b[0;34m\u001b[0m\u001b[0m\n\u001b[1;32m   1567\u001b[0m         \u001b[0mbound\u001b[0m \u001b[0;34m=\u001b[0m \u001b[0mnew_sig\u001b[0m\u001b[0;34m.\u001b[0m\u001b[0mbind\u001b[0m\u001b[0;34m(\u001b[0m\u001b[0max\u001b[0m\u001b[0;34m,\u001b[0m \u001b[0;34m*\u001b[0m\u001b[0margs\u001b[0m\u001b[0;34m,\u001b[0m \u001b[0;34m**\u001b[0m\u001b[0mkwargs\u001b[0m\u001b[0;34m)\u001b[0m\u001b[0;34m\u001b[0m\u001b[0;34m\u001b[0m\u001b[0m\n",
            "\u001b[0;32m/usr/local/lib/python3.7/dist-packages/matplotlib/axes/_axes.py\u001b[0m in \u001b[0;36mpie\u001b[0;34m(self, x, explode, labels, colors, autopct, pctdistance, shadow, labeldistance, startangle, radius, counterclock, wedgeprops, textprops, center, frame, rotatelabels)\u001b[0m\n\u001b[1;32m   2927\u001b[0m             \u001b[0mexplode\u001b[0m \u001b[0;34m=\u001b[0m \u001b[0;34m[\u001b[0m\u001b[0;36m0\u001b[0m\u001b[0;34m]\u001b[0m \u001b[0;34m*\u001b[0m \u001b[0mlen\u001b[0m\u001b[0;34m(\u001b[0m\u001b[0mx\u001b[0m\u001b[0;34m)\u001b[0m\u001b[0;34m\u001b[0m\u001b[0;34m\u001b[0m\u001b[0m\n\u001b[1;32m   2928\u001b[0m         \u001b[0;32mif\u001b[0m \u001b[0mlen\u001b[0m\u001b[0;34m(\u001b[0m\u001b[0mx\u001b[0m\u001b[0;34m)\u001b[0m \u001b[0;34m!=\u001b[0m \u001b[0mlen\u001b[0m\u001b[0;34m(\u001b[0m\u001b[0mlabels\u001b[0m\u001b[0;34m)\u001b[0m\u001b[0;34m:\u001b[0m\u001b[0;34m\u001b[0m\u001b[0;34m\u001b[0m\u001b[0m\n\u001b[0;32m-> 2929\u001b[0;31m             \u001b[0;32mraise\u001b[0m \u001b[0mValueError\u001b[0m\u001b[0;34m(\u001b[0m\u001b[0;34m\"'label' must be of length 'x'\"\u001b[0m\u001b[0;34m)\u001b[0m\u001b[0;34m\u001b[0m\u001b[0;34m\u001b[0m\u001b[0m\n\u001b[0m\u001b[1;32m   2930\u001b[0m         \u001b[0;32mif\u001b[0m \u001b[0mlen\u001b[0m\u001b[0;34m(\u001b[0m\u001b[0mx\u001b[0m\u001b[0;34m)\u001b[0m \u001b[0;34m!=\u001b[0m \u001b[0mlen\u001b[0m\u001b[0;34m(\u001b[0m\u001b[0mexplode\u001b[0m\u001b[0;34m)\u001b[0m\u001b[0;34m:\u001b[0m\u001b[0;34m\u001b[0m\u001b[0;34m\u001b[0m\u001b[0m\n\u001b[1;32m   2931\u001b[0m             \u001b[0;32mraise\u001b[0m \u001b[0mValueError\u001b[0m\u001b[0;34m(\u001b[0m\u001b[0;34m\"'explode' must be of length 'x'\"\u001b[0m\u001b[0;34m)\u001b[0m\u001b[0;34m\u001b[0m\u001b[0;34m\u001b[0m\u001b[0m\n",
            "\u001b[0;31mValueError\u001b[0m: 'label' must be of length 'x'"
          ]
        },
        {
          "output_type": "display_data",
          "data": {
            "image/png": "[encoded data removed]",
            "text/plain": [
              "<Figure size 432x288 with 1 Axes>"
            ]
          },
          "metadata": {
            "needs_background": "light"
          }
        }
      ]
    },
    {
      "cell_type": "code",
      "metadata": {
        "id": "EpTRmGQF4kyA"
      },
      "source": [
        "# Challenge 3\n",
        "# ---\n",
        "# Question: From the combined dataset in Challenge 2, \n",
        "# create a pie chart of % of Total Rides by City Type\n",
        "# ---\n",
        "#\n",
        "OUR CODE GOES HERE"
      ],
      "execution_count": null,
      "outputs": []
    },
    {
      "cell_type": "code",
      "metadata": {
        "id": "H4FACJNg6kPw"
      },
      "source": [
        "# Challenge 4\n",
        "# ---\n",
        "# Question: From the combined dataset in Challenge 2, \n",
        "# create a pie chart % of Total Drivers by City Type\n",
        "# ---\n",
        "#\n",
        "OUR CODE GOES HERE"
      ],
      "execution_count": null,
      "outputs": []
    },
    {
      "cell_type": "markdown",
      "metadata": {
        "id": "QIuhupEZ1y_S"
      },
      "source": [
        "## 1.3 Numerical Variables"
      ]
    },
    {
      "cell_type": "markdown",
      "metadata": {
        "id": "GqietlVA2BUa"
      },
      "source": [
        "### 1.31 Measures of Central Tendency"
      ]
    },
    {
      "cell_type": "code",
      "metadata": {
        "id": "u_W0Wibz13A8",
        "colab": {
          "base_uri": "https://localhost:8080/"
        },
        "outputId": "ebd57373-c434-4b60-85c5-5523f7bd6cc4"
      },
      "source": [
        "# Example 1: Mean\n",
        "# Mean or Average is a central tendency of the data i.e. a number around which a whole data is spread out. \n",
        "# In a way, it is a single number which can estimate the value of whole data set.\n",
        "# ---\n",
        "# Question: From the following dataset, What is the mean monthly consumption and export of tea in millions of kg between 2003 and 2015\n",
        "# Dataset url = http://bit.ly/tea-exports\n",
        "# ---\n",
        "\n",
        "# Loading the dataset\n",
        "tea_exports_df = pd.read_csv(\"http://bit.ly/tea-exports\")\n",
        "\n",
        "# Previewing the dataset\n",
        "tea_exports_df.head()\n",
        "\n",
        "# Finding the mean\n",
        "tea_exports_df[\"Millions_in_KGS_\"].mean()"
      ],
      "execution_count": null,
      "outputs": [
        {
          "output_type": "execute_result",
          "data": {
            "text/plain": [
              "24.452987654321003"
            ]
          },
          "metadata": {},
          "execution_count": 19
        }
      ]
    },
    {
      "cell_type": "code",
      "metadata": {
        "id": "2DPrdaoc16tZ"
      },
      "source": [
        "# Example 2: Median\n",
        "# Median is the value which divides the data in 2 equal parts i.e. number of terms on right side of it \n",
        "# is same as number of terms on left side of it when data is arranged in either ascending or descending order.\n",
        "# ---\n",
        "# Question: From the following dataset, What was the monthly median fish production(kgs) in Kisumu sub county?\n",
        "# Dataset url = http://bit.ly/Kisumu-fish-production\n",
        "# ---\n",
        "# \n",
        "\n",
        "# Loading the dataset\n",
        "kisumu_fish_production_df = pd.read_csv(\"http://bit.ly/Kisumu-fish-production\")\n",
        "\n",
        "# Previewing the dataset\n",
        "kisumu_fish_production_df.head()\n",
        "\n",
        "# Finding the median\n",
        "kisumu_fish_production_df[\"WEIGHT_KGS\"].median()"
      ],
      "execution_count": null,
      "outputs": []
    },
    {
      "cell_type": "code",
      "metadata": {
        "id": "eYO9eGyH125E"
      },
      "source": [
        "# Example 3: Mode \n",
        "# Mode is the term appearing maximum time in data set i.e. term that has highest frequency.\n",
        "# ---\n",
        "# Question: From the given dataset, what was the mode target yield bags per hectare during the long rains?\n",
        "# Dataset url = http://bit.ly/Kisumu-crop-statistics\n",
        "# ---\n",
        "#\n",
        "\n",
        "# Loading the dataset\n",
        "kisumu_crop_statistics_df = pd.read_csv(\"http://bit.ly/Kisumu-crop-statistics\")\n",
        "\n",
        "# Previewing the dataset\n",
        "kisumu_crop_statistics_df.head()\n",
        "\n",
        "# Finding the median\n",
        "kisumu_crop_statistics_df[\"TARGET_YIELD__BAG/HA_LONG_RAINS\"].mode()"
      ],
      "execution_count": null,
      "outputs": []
    },
    {
      "cell_type": "markdown",
      "metadata": {
        "id": "Z6im-o4g4pK6"
      },
      "source": [
        "#### <font color=\"green\">1.32 Challenges</font>"
      ]
    },
    {
      "cell_type": "code",
      "metadata": {
        "id": "bd8oXas94osH",
        "colab": {
          "base_uri": "https://localhost:8080/",
          "height": 275
        },
        "outputId": "8de401e0-c695-4534-e186-d7c908cd6f02"
      },
      "source": [
        "# Challenge 1: Mean\n",
        "# ---\n",
        "# Question: What was the mean target production bags of 90kg during short rains?\n",
        "# Dataset url = http://bit.ly/Kisumu-crop-statistics\n",
        "# ---\n",
        "# \n",
        "dfone=pd.read_csv(\"http://bit.ly/Kisumu-crop-statistics\")\n",
        "dfone.head()\n",
        "#dfone['TARGET_PRODUCTION_BAGS_SHORT_RAINS'].mean()"
      ],
      "execution_count": null,
      "outputs": [
        {
          "output_type": "execute_result",
          "data": {
            "text/html": [
              "<div>\n",
              "<style scoped>\n",
              "    .dataframe tbody tr th:only-of-type {\n",
              "        vertical-align: middle;\n",
              "    }\n",
              "\n",
              "    .dataframe tbody tr th {\n",
              "        vertical-align: top;\n",
              "    }\n",
              "\n",
              "    .dataframe thead th {\n",
              "        text-align: right;\n",
              "    }\n",
              "</style>\n",
              "<table border=\"1\" class=\"dataframe\">\n",
              "  <thead>\n",
              "    <tr style=\"text-align: right;\">\n",
              "      <th></th>\n",
              "      <th>SUB-COUNTY</th>\n",
              "      <th>PRODUCE</th>\n",
              "      <th>TARGET_AREA_HA_LONG_RAINS</th>\n",
              "      <th>TARGET_AREA_HA_SHORT_RAINS</th>\n",
              "      <th>TARGET_TOTAL_</th>\n",
              "      <th>TARGET_YIELD__BAG/HA_LONG_RAINS</th>\n",
              "      <th>TARGET_YIELD__BAG/HA_SHORT_RAINS</th>\n",
              "      <th>TARGET_PRODUCTION_BAGS_LONG_RAINS</th>\n",
              "      <th>TARGET_PRODUCTION_BAGS_SHORT_RAINS</th>\n",
              "      <th>TARGET_PRODUCTION_BAGS_TOTAL</th>\n",
              "      <th>ACHIEVEMENT_AREA_HA_LONG_RAINS</th>\n",
              "      <th>ACHIEVEMENT_AREA_HA_SHORT_RAINS</th>\n",
              "      <th>ACHIEVEMENT_TOTAL</th>\n",
              "      <th>PROJECTED_YIELD_BAG/HA_LONG_RAINS</th>\n",
              "      <th>PROJECTED_YIELD_BAG/HA_SHORT_RAINS</th>\n",
              "      <th>PROJECTED___PRODUCTION_BAGS_OF_90KG_EACH__LR</th>\n",
              "      <th>PROJECTED___PRODUCTION_BAGS_OF_90KG_EACH__SR</th>\n",
              "      <th>PROJECTED___PRODUCTION_BAGS_OF_90KG_EACH__TOTAL</th>\n",
              "      <th>PRICES_KSH/BAG_LONG_RAINS</th>\n",
              "      <th>PRICES_KSH/BAG_SHORT_RAINS</th>\n",
              "      <th>VALUE_KSH__LONG_RAINS</th>\n",
              "      <th>VALUE_KSH_SHORT_RAINS</th>\n",
              "      <th>VALUE_KSH_TOTAL</th>\n",
              "      <th>DATE</th>\n",
              "      <th>OBJECTID</th>\n",
              "    </tr>\n",
              "  </thead>\n",
              "  <tbody>\n",
              "    <tr>\n",
              "      <th>0</th>\n",
              "      <td>KISUMU WEST</td>\n",
              "      <td>Maize</td>\n",
              "      <td>8000</td>\n",
              "      <td>5000</td>\n",
              "      <td>6700</td>\n",
              "      <td>25</td>\n",
              "      <td>20</td>\n",
              "      <td>200000</td>\n",
              "      <td>100000</td>\n",
              "      <td>300000</td>\n",
              "      <td>7880</td>\n",
              "      <td>3000</td>\n",
              "      <td>10880</td>\n",
              "      <td>5</td>\n",
              "      <td>5.0</td>\n",
              "      <td>21670</td>\n",
              "      <td>25000.0</td>\n",
              "      <td>46670</td>\n",
              "      <td>0</td>\n",
              "      <td>0</td>\n",
              "      <td>0</td>\n",
              "      <td>0</td>\n",
              "      <td>0</td>\n",
              "      <td>9/16/16</td>\n",
              "      <td>0</td>\n",
              "    </tr>\n",
              "    <tr>\n",
              "      <th>1</th>\n",
              "      <td>SEME</td>\n",
              "      <td>Maize</td>\n",
              "      <td>8000</td>\n",
              "      <td>3500</td>\n",
              "      <td>13000</td>\n",
              "      <td>25</td>\n",
              "      <td>20</td>\n",
              "      <td>200000</td>\n",
              "      <td>70000</td>\n",
              "      <td>270000</td>\n",
              "      <td>7200</td>\n",
              "      <td>2000</td>\n",
              "      <td>9200</td>\n",
              "      <td>5</td>\n",
              "      <td>5.0</td>\n",
              "      <td>19800</td>\n",
              "      <td>17500.0</td>\n",
              "      <td>37300</td>\n",
              "      <td>0</td>\n",
              "      <td>0</td>\n",
              "      <td>0</td>\n",
              "      <td>0</td>\n",
              "      <td>0</td>\n",
              "      <td>9/16/16</td>\n",
              "      <td>1</td>\n",
              "    </tr>\n",
              "    <tr>\n",
              "      <th>2</th>\n",
              "      <td>KISUMU E</td>\n",
              "      <td>Maize</td>\n",
              "      <td>1500</td>\n",
              "      <td>750</td>\n",
              "      <td>2250</td>\n",
              "      <td>25</td>\n",
              "      <td>20</td>\n",
              "      <td>37500</td>\n",
              "      <td>15000</td>\n",
              "      <td>52500</td>\n",
              "      <td>1460</td>\n",
              "      <td>500</td>\n",
              "      <td>1960</td>\n",
              "      <td>5</td>\n",
              "      <td>5.0</td>\n",
              "      <td>4015</td>\n",
              "      <td>3750.0</td>\n",
              "      <td>7765</td>\n",
              "      <td>0</td>\n",
              "      <td>0</td>\n",
              "      <td>0</td>\n",
              "      <td>0</td>\n",
              "      <td>0</td>\n",
              "      <td>9/16/16</td>\n",
              "      <td>2</td>\n",
              "    </tr>\n",
              "    <tr>\n",
              "      <th>3</th>\n",
              "      <td>NYANDO</td>\n",
              "      <td>Maize</td>\n",
              "      <td>8200</td>\n",
              "      <td>4000</td>\n",
              "      <td>12200</td>\n",
              "      <td>25</td>\n",
              "      <td>20</td>\n",
              "      <td>205000</td>\n",
              "      <td>80000</td>\n",
              "      <td>285000</td>\n",
              "      <td>7640</td>\n",
              "      <td>1200</td>\n",
              "      <td>8840</td>\n",
              "      <td>5</td>\n",
              "      <td>5.0</td>\n",
              "      <td>21010</td>\n",
              "      <td>20000.0</td>\n",
              "      <td>41010</td>\n",
              "      <td>0</td>\n",
              "      <td>0</td>\n",
              "      <td>0</td>\n",
              "      <td>0</td>\n",
              "      <td>0</td>\n",
              "      <td>9/16/16</td>\n",
              "      <td>3</td>\n",
              "    </tr>\n",
              "    <tr>\n",
              "      <th>4</th>\n",
              "      <td>NYAKACH</td>\n",
              "      <td>Maize</td>\n",
              "      <td>10500</td>\n",
              "      <td>4500</td>\n",
              "      <td>15000</td>\n",
              "      <td>25</td>\n",
              "      <td>20</td>\n",
              "      <td>262500</td>\n",
              "      <td>90000</td>\n",
              "      <td>352500</td>\n",
              "      <td>9500</td>\n",
              "      <td>2400</td>\n",
              "      <td>11900</td>\n",
              "      <td>5</td>\n",
              "      <td>5.0</td>\n",
              "      <td>26125</td>\n",
              "      <td>22500.0</td>\n",
              "      <td>48625</td>\n",
              "      <td>0</td>\n",
              "      <td>0</td>\n",
              "      <td>0</td>\n",
              "      <td>0</td>\n",
              "      <td>0</td>\n",
              "      <td>9/16/16</td>\n",
              "      <td>4</td>\n",
              "    </tr>\n",
              "  </tbody>\n",
              "</table>\n",
              "</div>"
            ],
            "text/plain": [
              "    SUB-COUNTY PRODUCE  ...     DATE  OBJECTID\n",
              "0  KISUMU WEST   Maize  ...  9/16/16         0\n",
              "1         SEME   Maize  ...  9/16/16         1\n",
              "2     KISUMU E   Maize  ...  9/16/16         2\n",
              "3       NYANDO   Maize  ...  9/16/16         3\n",
              "4      NYAKACH   Maize  ...  9/16/16         4\n",
              "\n",
              "[5 rows x 25 columns]"
            ]
          },
          "metadata": {},
          "execution_count": 23
        }
      ]
    },
    {
      "cell_type": "code",
      "metadata": {
        "id": "lOwXYPaO4x7u",
        "colab": {
          "base_uri": "https://localhost:8080/"
        },
        "outputId": "5bc9aade-4052-4768-b3b1-6b5ff34afbee"
      },
      "source": [
        "# Challenge 2: Median\n",
        "# ---\n",
        "# Question: What was the median target production bags during long rains?\n",
        "# Dataset url = http://bit.ly/Kisumu-crop-statistics\n",
        "# ---\n",
        "#\n",
        "dfone=pd.read_csv(\"http://bit.ly/Kisumu-crop-statistics\")\n",
        "dfone.head()\n",
        "dfone['TARGET_PRODUCTION_BAGS_LONG_RAINS'].median()"
      ],
      "execution_count": null,
      "outputs": [
        {
          "output_type": "execute_result",
          "data": {
            "text/plain": [
              "3075.0"
            ]
          },
          "metadata": {},
          "execution_count": 24
        }
      ]
    },
    {
      "cell_type": "code",
      "metadata": {
        "id": "JyOIjUMD4y-7",
        "colab": {
          "base_uri": "https://localhost:8080/"
        },
        "outputId": "cb034862-b614-49c2-af28-3dfadbb1e2f5"
      },
      "source": [
        "# Challenge 3: Mode \n",
        "# ---\n",
        "# Question: What was the mode projected yield bags per hectare during short rains?\n",
        "# Dataset url = http://bit.ly/Kisumu-crop-statistics\n",
        "# ---\n",
        "#\n",
        "dfone=pd.read_csv(\"http://bit.ly/Kisumu-crop-statistics\")\n",
        "dfone.head()\n",
        "dfone['PROJECTED_YIELD_BAG/HA_SHORT_RAINS'].mode()"
      ],
      "execution_count": null,
      "outputs": [
        {
          "output_type": "execute_result",
          "data": {
            "text/plain": [
              "0    0.0\n",
              "dtype: float64"
            ]
          },
          "metadata": {},
          "execution_count": 25
        }
      ]
    },
    {
      "cell_type": "markdown",
      "metadata": {
        "id": "8POt4f4D2LcH"
      },
      "source": [
        "### 1.32 Measures of Dispersion/Variability/Spread"
      ]
    },
    {
      "cell_type": "code",
      "metadata": {
        "id": "kZeJoLg_2R3Q",
        "colab": {
          "base_uri": "https://localhost:8080/"
        },
        "outputId": "71a43b6d-da9f-43cf-de92-9913de17ac6b"
      },
      "source": [
        "# Example 1: Standard Deviation  \n",
        "# Standard deviation is the measurement of average distance between each quantity and mean. \n",
        "# That is, how data is spread out from mean. A low standard deviation indicates that the data points \n",
        "# tend to be close to the mean of the data set, while a high standard deviation indicates that the \n",
        "# data points are spread out over a wider range of values.\n",
        "# There are situations when we have to choose between sample or population Standard Deviation. \n",
        "# When we are asked to find SD of some part of a population, a segment of population; \n",
        "# then we use sample Standard Deviation. But when we have to deal with a whole population, \n",
        "# then we use population Standard Deviation. As you know, in descriptive statistics, \n",
        "# we generally deal with a data available in a sample, not in a population.\n",
        "# ---\n",
        "# Question: What was the standard deviation for the Nakuru Couty Herbicide average prices?\n",
        "# Dataset url = http://bit.ly/NakuruCountyHerbicidePrices\n",
        "# ----\n",
        "# \n",
        "\n",
        "# Loading the dataset\n",
        "nakuru_county_herbicide_prices_df = pd.read_csv(\"http://bit.ly/NakuruCountyHerbicidePrices\")\n",
        "\n",
        "# Previewing the dataset\n",
        "# nakuru_county_herbicide_prices_df.head()\n",
        "\n",
        "# Finding the standard deviation\n",
        "nakuru_county_herbicide_prices_df[\"Average_Price\"].std()"
      ],
      "execution_count": null,
      "outputs": [
        {
          "output_type": "execute_result",
          "data": {
            "text/plain": [
              "2539.974525115418"
            ]
          },
          "metadata": {},
          "execution_count": 26
        }
      ]
    },
    {
      "cell_type": "code",
      "metadata": {
        "id": "P8vUwmx3-8iB",
        "colab": {
          "base_uri": "https://localhost:8080/"
        },
        "outputId": "af7b610c-10e1-4788-c97b-bed4bf4f13d3"
      },
      "source": [
        "# Example 2: Variance\n",
        "# Variance is a square of average distance between each quantity and mean. \n",
        "# That is it is square of standard deviation. It is a measure of how dispersed or spread out the set is, \n",
        "# something that the “average” (mean or median) is not designed to do. \n",
        "# If I tell you a data set has a variance of zero, for example, you know that every member of it is the same. \n",
        "# If the variance is high, especially as a ratio to the mean, \n",
        "# that tells you that the data have some very large dis-similarities amongst its members. \n",
        "# If one considers the mean to be a sort of centre of the data, \n",
        "# the variance tells you how scattered around the centre of mass the points are.\n",
        "# ---\n",
        "# Question: What was the variance of the Nakuru Couty Herbicide average prices?\n",
        "# Dataset url = http://bit.ly/NakuruCountyHerbicidePrices\n",
        "# ---\n",
        "#  \n",
        "\n",
        "# Finding the variance of the herbicide average prices\n",
        "nakuru_county_herbicide_prices_df[\"Average_Price\"].var()"
      ],
      "execution_count": null,
      "outputs": [
        {
          "output_type": "execute_result",
          "data": {
            "text/plain": [
              "6451470.5882352935"
            ]
          },
          "metadata": {},
          "execution_count": 27
        }
      ]
    },
    {
      "cell_type": "code",
      "metadata": {
        "id": "j73naeos2RRR"
      },
      "source": [
        "# Examples 3: Range\n",
        "# Range is one of the simplest techniques of descriptive statistics. \n",
        "# It is the difference between lowest and highest value.\n",
        "# ---\n",
        "# Question: What was the range of the Nakuru county herbicide prices?\n",
        "# Dataset url = http://bit.ly/NakuruCountyHerbicidePrices\n",
        "# ---\n",
        "#\n",
        "\n",
        "# Finding the min and max values of the herbicide average prices\n",
        "nakuru_county_herbicide_prices_max = nakuru_county_herbicide_prices_df[\"Average_Price\"].max()\n",
        "nakuru_county_herbicide_prices_min = nakuru_county_herbicide_prices_df[\"Average_Price\"].min()\n",
        "\n",
        "# Calculating the range\n",
        "nakuru_county_herbicide_prices_max - nakuru_county_herbicide_prices_min"
      ],
      "execution_count": null,
      "outputs": []
    },
    {
      "cell_type": "code",
      "metadata": {
        "id": "UobGI2kj2Q3Y",
        "colab": {
          "base_uri": "https://localhost:8080/"
        },
        "outputId": "752c6810-628b-4eac-a6db-fd27ff709cbb"
      },
      "source": [
        "# Example 4: Quantiles \n",
        "# In statistics and probability, quartiles are values that divide your data into quarters provided data is sorted in an ascending order. \n",
        "# There are three quartile values. First quartile value is at 25 percentile. \n",
        "# Second quartile is 50 percentile and third quartile is 75 percentile. \n",
        "# Second quartile (Q2) is median of the whole data. First quartile (Q1) is median of upper half of the data. \n",
        "# And Third Quartile (Q3) is median of lower half of the data.\n",
        "# ---\n",
        "# Question: Determine the quantiles of the Nakuru county herbicide prices\n",
        "# Dataset url = http://bit.ly/NakuruCountyHerbicidePrices\n",
        "# ---\n",
        "# \n",
        "\n",
        "# Finding the quantiles of the herbicide average prices\n",
        "nakuru_county_herbicide_prices_df[\"Average_Price\"].quantile([0.25,0.5,0.75])"
      ],
      "execution_count": null,
      "outputs": [
        {
          "output_type": "execute_result",
          "data": {
            "text/plain": [
              "0.25    1162.5\n",
              "0.50    1875.0\n",
              "0.75    3900.0\n",
              "Name: Average_Price, dtype: float64"
            ]
          },
          "metadata": {},
          "execution_count": 28
        }
      ]
    },
    {
      "cell_type": "code",
      "metadata": {
        "id": "j_9rzQpe3UEE",
        "colab": {
          "base_uri": "https://localhost:8080/"
        },
        "outputId": "7e51550c-01fd-479a-bfc6-852100ba1725"
      },
      "source": [
        "# Examples 5: Skewness\n",
        "# Skewness is a measure of the asymmetry of the probability distribution (http://bit.ly/ProbabilityDistribution)\n",
        "# of a real-valued random variable about its mean. The skewness value can be positive or negative, or undefined.\n",
        "# In a perfect normal distribution, the tails on either side of the curve are exact mirror images of each other.\n",
        "# When a distribution is skewed to the left, the tail on the curve’s left-hand side is longer than the tail on the right-hand side,\n",
        "# and the mean is less than the mode. This situation is also called negative skewness.\n",
        "# When a distribution is skewed to the right, the tail on the curve’s right-hand side is longer than the tail on the left-hand side, \n",
        "# and the mean is greater than the mode. This situation is also called positive skewness.\n",
        "# It is important for researchers from the behavioral and business sciences to measure skewness when it appears in their data. \n",
        "# Great amount of skewness may motivate the data scientist to investigate the existence of outliers. \n",
        "# When making decisions about which measure of location to report and which inferential statistic to employ, \n",
        "# one should take into consideration the estimated skewness of the population.\n",
        "# A negative value means the distribution is negatively skewed. A positive value means the distribution is positively skewed.\n",
        "# ---\n",
        "# Question: Determine the skewness of the Nakuru county herbicide prices.\n",
        "# Dataset url = http://bit.ly/NakuruCountyHerbicidePrices\n",
        "# ---\n",
        "#\n",
        "\n",
        "# Determining the skeweness\n",
        "nakuru_county_herbicide_prices_df[\"Average_Price\"].skew()"
      ],
      "execution_count": null,
      "outputs": [
        {
          "output_type": "execute_result",
          "data": {
            "text/plain": [
              "1.0944233329783948"
            ]
          },
          "metadata": {},
          "execution_count": 29
        }
      ]
    },
    {
      "cell_type": "code",
      "metadata": {
        "id": "HTwjeGEy3XAB",
        "colab": {
          "base_uri": "https://localhost:8080/"
        },
        "outputId": "2547249a-de92-4ada-d6b2-220e68a6c7ec"
      },
      "source": [
        "# Examples 6: Kurtosis\n",
        "# The exact interpretation of the measure of Kurtosis used to be disputed, but is now settled. \n",
        "# Its about existence of outliers. Kurtosis is a measure of whether the data are heavy-tailed (profusion of outliers)\n",
        "# or light-tailed (lack of outliers) relative to a normal distribution.\n",
        "# There are three types of Kurtosis: Mesokurtic, Leptokurtic, Mesokurtic and Platykurtic. \n",
        "# ***\n",
        "# Mesokurtic is the distribution which has similar kurtosis as normal distribution kurtosis, which is zero.\n",
        "# ***\n",
        "# Leptokurtic is the distribution which has kurtosis greater than a Mesokurtic distribution. Tails of such distributions are thick and heavy. \n",
        "# If the curve of a distribution is more peaked than Mesokurtic curve, it is referred to as a Leptokurtic curve.\n",
        "# ***\n",
        "# Platykurtic is the distribution which has kurtosis lesser than a Mesokurtic distribution. Tails of such distributions thinner. \n",
        "# If a curve of a distribution is less peaked than a Mesokurtic curve, it is referred to as a Platykurtic curve.\n",
        "# \n",
        "# If the kurtosis is close to 0, then a normal distribution is often assumed. These are called mesokurtic distributions. \n",
        "# If the kurtosis is less than zero, then the distribution is light tails and is called a platykurtic distribution.  \n",
        "# If the kurtosis is greater than zero, then the distribution has heavier tails and is called a leptokurtic distribution.\n",
        "# ---\n",
        "# Question: Determine the Kurtosis of the Nakuru county herbicide prices \n",
        "# Dataset url = http://bit.ly/NakuruCountyHerbicidePrices\n",
        "# ---\n",
        "#\n",
        "\n",
        "# Determining the skeweness \n",
        "nakuru_county_herbicide_prices_df[\"Average_Price\"].kurt()"
      ],
      "execution_count": null,
      "outputs": [
        {
          "output_type": "execute_result",
          "data": {
            "text/plain": [
              "-0.1522981864221693"
            ]
          },
          "metadata": {},
          "execution_count": 30
        }
      ]
    },
    {
      "cell_type": "code",
      "metadata": {
        "id": "cN5YUpsblCLC",
        "colab": {
          "base_uri": "https://localhost:8080/"
        },
        "outputId": "73719ad6-7a96-458c-d98a-961dbf2a35b7"
      },
      "source": [
        "# Example 7: Displaying the summary statistics of the dataframe\n",
        "#\n",
        "nakuru_county_herbicide_prices_df['Average_Price'].describe()\n"
      ],
      "execution_count": null,
      "outputs": [
        {
          "output_type": "execute_result",
          "data": {
            "text/plain": [
              "count      18.000000\n",
              "mean     2933.333333\n",
              "std      2539.974525\n",
              "min       550.000000\n",
              "25%      1162.500000\n",
              "50%      1875.000000\n",
              "75%      3900.000000\n",
              "max      8000.000000\n",
              "Name: Average_Price, dtype: float64"
            ]
          },
          "metadata": {},
          "execution_count": 31
        }
      ]
    },
    {
      "cell_type": "markdown",
      "metadata": {
        "id": "xumXllAg5A6N"
      },
      "source": [
        "#### <font color=\"green\">1.32 Challenges</font>"
      ]
    },
    {
      "cell_type": "code",
      "metadata": {
        "id": "gXnEzujX5Gi0",
        "colab": {
          "base_uri": "https://localhost:8080/"
        },
        "outputId": "143c57d7-ace3-4ad4-d4ef-366f25d65b35"
      },
      "source": [
        "# Challenge 1: Standard Deviation\n",
        "# ---\n",
        "# What was the variance of end of reporting month surplus for the 90kg bags?\n",
        "# Dataset url = http://bit.ly/KisumuFoodSecurtyDataset\n",
        "# ---\n",
        "# \n",
        "ksm=pd.read_csv('http://bit.ly/KisumuFoodSecurtyDataset')\n",
        "ksm.head()\n",
        "ksm['End_of_reporting_month_surplus-_90_Kg_bags'].std()"
      ],
      "execution_count": null,
      "outputs": [
        {
          "output_type": "execute_result",
          "data": {
            "text/plain": [
              "16791.401843156884"
            ]
          },
          "metadata": {},
          "execution_count": 35
        }
      ]
    },
    {
      "cell_type": "code",
      "metadata": {
        "id": "233fZPZb3aE8",
        "colab": {
          "base_uri": "https://localhost:8080/"
        },
        "outputId": "6c6a5d32-e515-41a7-ad0e-df163d58a047"
      },
      "source": [
        "# Challenge 2: Variance \n",
        "# ---\n",
        "# What was the variance of end of reporting month surplus for the 90kg bags?\n",
        "# Dataset url = http://bit.ly/KisumuFoodSecurityDataset\n",
        "# ---\n",
        "# \n",
        "ksm=pd.read_csv('http://bit.ly/KisumuFoodSecurtyDataset')\n",
        "ksm.head()\n",
        "ksm['End_of_reporting_month_surplus-_90_Kg_bags'].var()"
      ],
      "execution_count": null,
      "outputs": [
        {
          "output_type": "execute_result",
          "data": {
            "text/plain": [
              "281951175.85837245"
            ]
          },
          "metadata": {},
          "execution_count": 36
        }
      ]
    },
    {
      "cell_type": "code",
      "metadata": {
        "id": "0V7cj3tZ5Ive",
        "colab": {
          "base_uri": "https://localhost:8080/"
        },
        "outputId": "c01d65aa-3d57-4d63-a0ee-4010b6cd222e"
      },
      "source": [
        "# Challenge 3: Range\n",
        "# ---\n",
        "# What was the range of end of reporting month surplus for the 90kg bags?\n",
        "# Dataset url = http://bit.ly/KisumuFoodSecurityDataset\n",
        "# ---\n",
        "# \n",
        "ksm=pd.read_csv('http://bit.ly/KisumuFoodSecurtyDataset')\n",
        "ksm.head()\n",
        "max=ksm['End_of_reporting_month_surplus-_90_Kg_bags'].max()\n",
        "min=ksm['End_of_reporting_month_surplus-_90_Kg_bags'].min()\n",
        "range=max-min\n",
        "range"
      ],
      "execution_count": null,
      "outputs": [
        {
          "output_type": "execute_result",
          "data": {
            "text/plain": [
              "59835"
            ]
          },
          "metadata": {},
          "execution_count": 37
        }
      ]
    },
    {
      "cell_type": "code",
      "metadata": {
        "id": "goQeGKwvEYTR",
        "colab": {
          "base_uri": "https://localhost:8080/"
        },
        "outputId": "47fc65e4-5f83-4b58-ea0f-4bbc66a4a7dd"
      },
      "source": [
        "# Challenge 4: Quantiles\n",
        "# ---\n",
        "# What was the range of end of reporting month surplus for the 90kg bags?\n",
        "# Dataset url = http://bit.ly/KisumuFoodSecurityDataset\n",
        "# ---\n",
        "# \n",
        "ksm=pd.read_csv('http://bit.ly/KisumuFoodSecurtyDataset')\n",
        "ksm.head()\n",
        "ksm['End_of_reporting_month_surplus-_90_Kg_bags'].quantile([0.25,0.5,0.75])"
      ],
      "execution_count": null,
      "outputs": [
        {
          "output_type": "execute_result",
          "data": {
            "text/plain": [
              "0.25     2412.5\n",
              "0.50     3968.0\n",
              "0.75    24584.0\n",
              "Name: End_of_reporting_month_surplus-_90_Kg_bags, dtype: float64"
            ]
          },
          "metadata": {},
          "execution_count": 39
        }
      ]
    },
    {
      "cell_type": "code",
      "metadata": {
        "id": "9i9AaOF-EZ7M",
        "colab": {
          "base_uri": "https://localhost:8080/"
        },
        "outputId": "3a7fd163-851b-48f1-91f0-5c8220fa6ca5"
      },
      "source": [
        "# Challenge 5: Skewness\n",
        "# ---\n",
        "# What was the skewness of end of reporting month surplus for the 90kg bags?\n",
        "# Dataset url = http://bit.ly/KisumuFoodSecurityDataset\n",
        "# ---\n",
        "# \n",
        "ksm=pd.read_csv('http://bit.ly/KisumuFoodSecurtyDataset')\n",
        "ksm.head()\n",
        "ksm['End_of_reporting_month_surplus-_90_Kg_bags'].skew()\n",
        "#A negative value means the distribution is negatively skewed. A positive value means the distribution is positively skewed."
      ],
      "execution_count": null,
      "outputs": [
        {
          "output_type": "execute_result",
          "data": {
            "text/plain": [
              "1.1041466566572853"
            ]
          },
          "metadata": {},
          "execution_count": 40
        }
      ]
    },
    {
      "cell_type": "code",
      "metadata": {
        "id": "jJG08eSTEbG6",
        "colab": {
          "base_uri": "https://localhost:8080/"
        },
        "outputId": "35dee55b-e28a-49ae-87b3-9f4da6baf0ad"
      },
      "source": [
        "# Challenge 6: Kurtosis \n",
        "# ---\n",
        "# Find the kurtosis of end of reporting month surplus for the 90kg bags?\n",
        "# Dataset url = http://bit.ly/KisumuFoodSecurityDataset\n",
        "# ---\n",
        "# \n",
        "ksm=pd.read_csv('http://bit.ly/KisumuFoodSecurtyDataset')\n",
        "ksm.head()\n",
        "ksm['End_of_reporting_month_surplus-_90_Kg_bags'].kurt()\n",
        "#If the kurtosis is close to 0, then a normal distribution is often assumed. These are called mesokurtic distributions. \n",
        "# If the kurtosis is less than zero, then the distribution is light tails and is called a platykurtic distribution.  \n",
        "# If the kurtosis is greater than zero, then the distribution has heavier tails and is called a leptokurtic distribution."
      ],
      "execution_count": null,
      "outputs": [
        {
          "output_type": "execute_result",
          "data": {
            "text/plain": [
              "-0.007825909487768179"
            ]
          },
          "metadata": {},
          "execution_count": 41
        }
      ]
    },
    {
      "cell_type": "markdown",
      "metadata": {
        "id": "kKZFF5-Q6d5c"
      },
      "source": [
        "### 1.33 Visualisation Techniques"
      ]
    },
    {
      "cell_type": "markdown",
      "metadata": {
        "id": "32s_izI76icw"
      },
      "source": [
        "#### 1.41 Box Plots"
      ]
    },
    {
      "cell_type": "code",
      "metadata": {
        "id": "Cf_cAZET6iHd",
        "colab": {
          "base_uri": "https://localhost:8080/",
          "height": 351
        },
        "outputId": "381c8675-72c8-45e5-9d68-032dffcd5da8"
      },
      "source": [
        "# Example 1\n",
        "# A boxplot is a standardized way of displaying the distribution of data based on a \n",
        "# five number summary (“minimum”, first quartile (Q1), median, third quartile (Q3), and “maximum”). \n",
        "# It can tell you about your outliers and what their values are. It can also tell you if your data is symmetrical, \n",
        "# how tightly your data is grouped, and if and how your data is skewed.\n",
        "# ---\n",
        "# Question: Plot a box plot of the average herbicide price\n",
        "# Dataset url = http://bit.ly/Kisumu-crop-statistics\n",
        "# ---\n",
        "#\n",
        "\n",
        "# Creating the boxplot\n",
        "#\n",
        "sns.boxplot(nakuru_county_herbicide_prices_df[\"Average_Price\"], showmeans=True)\n"
      ],
      "execution_count": null,
      "outputs": [
        {
          "output_type": "stream",
          "name": "stderr",
          "text": [
            "/usr/local/lib/python3.7/dist-packages/seaborn/_decorators.py:43: FutureWarning: Pass the following variable as a keyword arg: x. From version 0.12, the only valid positional argument will be `data`, and passing other arguments without an explicit keyword will result in an error or misinterpretation.\n",
            "  FutureWarning\n"
          ]
        },
        {
          "output_type": "execute_result",
          "data": {
            "text/plain": [
              "<matplotlib.axes._subplots.AxesSubplot at 0x7fbe39086950>"
            ]
          },
          "metadata": {},
          "execution_count": 42
        },
        {
          "output_type": "display_data",
          "data": {
            "image/png": "[encoded data removed]",
            "text/plain": [
              "<Figure size 432x288 with 1 Axes>"
            ]
          },
          "metadata": {
            "needs_background": "light"
          }
        }
      ]
    },
    {
      "cell_type": "code",
      "metadata": {
        "id": "QcI9bqIq68t3",
        "colab": {
          "base_uri": "https://localhost:8080/",
          "height": 283
        },
        "outputId": "5a035cc5-9a9f-4aa2-d2e3-34fb4334e47e"
      },
      "source": [
        "# Example 2\n",
        "# ---\n",
        "# Question: Using pandas, create a boxplot of the target yield bags per hectare during the long rains. \n",
        "# Dataset url = http://bit.ly/Kisumu-crop-statistics\n",
        "# ---\n",
        "#\n",
        "\n",
        "# Creating the boxplot\n",
        "#\n",
        "kisumu.boxplot([\"TARGET_YIELD__BAG/HA_LONG_RAINS\"])"
      ],
      "execution_count": null,
      "outputs": [
        {
          "output_type": "execute_result",
          "data": {
            "text/plain": [
              "<matplotlib.axes._subplots.AxesSubplot at 0x7fbe391f2b50>"
            ]
          },
          "metadata": {},
          "execution_count": 49
        },
        {
          "output_type": "display_data",
          "data": {
            "image/png": "[encoded data removed]",
            "text/plain": [
              "<Figure size 432x288 with 1 Axes>"
            ]
          },
          "metadata": {
            "needs_background": "light"
          }
        }
      ]
    },
    {
      "cell_type": "markdown",
      "metadata": {
        "id": "DHNDapES6-4D"
      },
      "source": [
        "##### <font color=\"green\">1.41 Challenges</font>"
      ]
    },
    {
      "cell_type": "code",
      "metadata": {
        "id": "Np_EB-2g7EjP",
        "colab": {
          "base_uri": "https://localhost:8080/",
          "height": 275
        },
        "outputId": "c77ceaa2-af91-4db2-fe6b-d1952bfce813"
      },
      "source": [
        "# Challenge 1\n",
        "# ---\n",
        "# Question: Using pandas, create a boxplot of the target area per hectare during the short rains.\n",
        "# Dataset url = http://bit.ly/Kisumu-crop-statistics\n",
        "# ---\n",
        "# \n",
        "kisumu=pd.read_csv('http://bit.ly/Kisumu-crop-statistics')\n",
        "kisumu.head()\n",
        "#kisumu.boxplot(['TARGET_AREA_HA_SHORT_RAINS'])"
      ],
      "execution_count": null,
      "outputs": [
        {
          "output_type": "execute_result",
          "data": {
            "text/html": [
              "<div>\n",
              "<style scoped>\n",
              "    .dataframe tbody tr th:only-of-type {\n",
              "        vertical-align: middle;\n",
              "    }\n",
              "\n",
              "    .dataframe tbody tr th {\n",
              "        vertical-align: top;\n",
              "    }\n",
              "\n",
              "    .dataframe thead th {\n",
              "        text-align: right;\n",
              "    }\n",
              "</style>\n",
              "<table border=\"1\" class=\"dataframe\">\n",
              "  <thead>\n",
              "    <tr style=\"text-align: right;\">\n",
              "      <th></th>\n",
              "      <th>SUB-COUNTY</th>\n",
              "      <th>PRODUCE</th>\n",
              "      <th>TARGET_AREA_HA_LONG_RAINS</th>\n",
              "      <th>TARGET_AREA_HA_SHORT_RAINS</th>\n",
              "      <th>TARGET_TOTAL_</th>\n",
              "      <th>TARGET_YIELD__BAG/HA_LONG_RAINS</th>\n",
              "      <th>TARGET_YIELD__BAG/HA_SHORT_RAINS</th>\n",
              "      <th>TARGET_PRODUCTION_BAGS_LONG_RAINS</th>\n",
              "      <th>TARGET_PRODUCTION_BAGS_SHORT_RAINS</th>\n",
              "      <th>TARGET_PRODUCTION_BAGS_TOTAL</th>\n",
              "      <th>ACHIEVEMENT_AREA_HA_LONG_RAINS</th>\n",
              "      <th>ACHIEVEMENT_AREA_HA_SHORT_RAINS</th>\n",
              "      <th>ACHIEVEMENT_TOTAL</th>\n",
              "      <th>PROJECTED_YIELD_BAG/HA_LONG_RAINS</th>\n",
              "      <th>PROJECTED_YIELD_BAG/HA_SHORT_RAINS</th>\n",
              "      <th>PROJECTED___PRODUCTION_BAGS_OF_90KG_EACH__LR</th>\n",
              "      <th>PROJECTED___PRODUCTION_BAGS_OF_90KG_EACH__SR</th>\n",
              "      <th>PROJECTED___PRODUCTION_BAGS_OF_90KG_EACH__TOTAL</th>\n",
              "      <th>PRICES_KSH/BAG_LONG_RAINS</th>\n",
              "      <th>PRICES_KSH/BAG_SHORT_RAINS</th>\n",
              "      <th>VALUE_KSH__LONG_RAINS</th>\n",
              "      <th>VALUE_KSH_SHORT_RAINS</th>\n",
              "      <th>VALUE_KSH_TOTAL</th>\n",
              "      <th>DATE</th>\n",
              "      <th>OBJECTID</th>\n",
              "    </tr>\n",
              "  </thead>\n",
              "  <tbody>\n",
              "    <tr>\n",
              "      <th>0</th>\n",
              "      <td>KISUMU WEST</td>\n",
              "      <td>Maize</td>\n",
              "      <td>8000</td>\n",
              "      <td>5000</td>\n",
              "      <td>6700</td>\n",
              "      <td>25</td>\n",
              "      <td>20</td>\n",
              "      <td>200000</td>\n",
              "      <td>100000</td>\n",
              "      <td>300000</td>\n",
              "      <td>7880</td>\n",
              "      <td>3000</td>\n",
              "      <td>10880</td>\n",
              "      <td>5</td>\n",
              "      <td>5.0</td>\n",
              "      <td>21670</td>\n",
              "      <td>25000.0</td>\n",
              "      <td>46670</td>\n",
              "      <td>0</td>\n",
              "      <td>0</td>\n",
              "      <td>0</td>\n",
              "      <td>0</td>\n",
              "      <td>0</td>\n",
              "      <td>9/16/16</td>\n",
              "      <td>0</td>\n",
              "    </tr>\n",
              "    <tr>\n",
              "      <th>1</th>\n",
              "      <td>SEME</td>\n",
              "      <td>Maize</td>\n",
              "      <td>8000</td>\n",
              "      <td>3500</td>\n",
              "      <td>13000</td>\n",
              "      <td>25</td>\n",
              "      <td>20</td>\n",
              "      <td>200000</td>\n",
              "      <td>70000</td>\n",
              "      <td>270000</td>\n",
              "      <td>7200</td>\n",
              "      <td>2000</td>\n",
              "      <td>9200</td>\n",
              "      <td>5</td>\n",
              "      <td>5.0</td>\n",
              "      <td>19800</td>\n",
              "      <td>17500.0</td>\n",
              "      <td>37300</td>\n",
              "      <td>0</td>\n",
              "      <td>0</td>\n",
              "      <td>0</td>\n",
              "      <td>0</td>\n",
              "      <td>0</td>\n",
              "      <td>9/16/16</td>\n",
              "      <td>1</td>\n",
              "    </tr>\n",
              "    <tr>\n",
              "      <th>2</th>\n",
              "      <td>KISUMU E</td>\n",
              "      <td>Maize</td>\n",
              "      <td>1500</td>\n",
              "      <td>750</td>\n",
              "      <td>2250</td>\n",
              "      <td>25</td>\n",
              "      <td>20</td>\n",
              "      <td>37500</td>\n",
              "      <td>15000</td>\n",
              "      <td>52500</td>\n",
              "      <td>1460</td>\n",
              "      <td>500</td>\n",
              "      <td>1960</td>\n",
              "      <td>5</td>\n",
              "      <td>5.0</td>\n",
              "      <td>4015</td>\n",
              "      <td>3750.0</td>\n",
              "      <td>7765</td>\n",
              "      <td>0</td>\n",
              "      <td>0</td>\n",
              "      <td>0</td>\n",
              "      <td>0</td>\n",
              "      <td>0</td>\n",
              "      <td>9/16/16</td>\n",
              "      <td>2</td>\n",
              "    </tr>\n",
              "    <tr>\n",
              "      <th>3</th>\n",
              "      <td>NYANDO</td>\n",
              "      <td>Maize</td>\n",
              "      <td>8200</td>\n",
              "      <td>4000</td>\n",
              "      <td>12200</td>\n",
              "      <td>25</td>\n",
              "      <td>20</td>\n",
              "      <td>205000</td>\n",
              "      <td>80000</td>\n",
              "      <td>285000</td>\n",
              "      <td>7640</td>\n",
              "      <td>1200</td>\n",
              "      <td>8840</td>\n",
              "      <td>5</td>\n",
              "      <td>5.0</td>\n",
              "      <td>21010</td>\n",
              "      <td>20000.0</td>\n",
              "      <td>41010</td>\n",
              "      <td>0</td>\n",
              "      <td>0</td>\n",
              "      <td>0</td>\n",
              "      <td>0</td>\n",
              "      <td>0</td>\n",
              "      <td>9/16/16</td>\n",
              "      <td>3</td>\n",
              "    </tr>\n",
              "    <tr>\n",
              "      <th>4</th>\n",
              "      <td>NYAKACH</td>\n",
              "      <td>Maize</td>\n",
              "      <td>10500</td>\n",
              "      <td>4500</td>\n",
              "      <td>15000</td>\n",
              "      <td>25</td>\n",
              "      <td>20</td>\n",
              "      <td>262500</td>\n",
              "      <td>90000</td>\n",
              "      <td>352500</td>\n",
              "      <td>9500</td>\n",
              "      <td>2400</td>\n",
              "      <td>11900</td>\n",
              "      <td>5</td>\n",
              "      <td>5.0</td>\n",
              "      <td>26125</td>\n",
              "      <td>22500.0</td>\n",
              "      <td>48625</td>\n",
              "      <td>0</td>\n",
              "      <td>0</td>\n",
              "      <td>0</td>\n",
              "      <td>0</td>\n",
              "      <td>0</td>\n",
              "      <td>9/16/16</td>\n",
              "      <td>4</td>\n",
              "    </tr>\n",
              "  </tbody>\n",
              "</table>\n",
              "</div>"
            ],
            "text/plain": [
              "    SUB-COUNTY PRODUCE  ...     DATE  OBJECTID\n",
              "0  KISUMU WEST   Maize  ...  9/16/16         0\n",
              "1         SEME   Maize  ...  9/16/16         1\n",
              "2     KISUMU E   Maize  ...  9/16/16         2\n",
              "3       NYANDO   Maize  ...  9/16/16         3\n",
              "4      NYAKACH   Maize  ...  9/16/16         4\n",
              "\n",
              "[5 rows x 25 columns]"
            ]
          },
          "metadata": {},
          "execution_count": 47
        }
      ]
    },
    {
      "cell_type": "code",
      "metadata": {
        "id": "woDc6x7z7Jhf",
        "colab": {
          "base_uri": "https://localhost:8080/",
          "height": 283
        },
        "outputId": "05c21790-7c05-4c99-a138-4200dbd2d351"
      },
      "source": [
        "# Challenge 2\n",
        "# ---\n",
        "# Question: Using pandas, create a boxplot of the target production bags the long rains.\n",
        "# Dataset url = http://bit.ly/Kisumu-crop-statistics\n",
        "# ---\n",
        "#\n",
        "kisumu.boxplot(['TARGET_PRODUCTION_BAGS_LONG_RAINS'])"
      ],
      "execution_count": null,
      "outputs": [
        {
          "output_type": "execute_result",
          "data": {
            "text/plain": [
              "<matplotlib.axes._subplots.AxesSubplot at 0x7fbe38e635d0>"
            ]
          },
          "metadata": {},
          "execution_count": 48
        },
        {
          "output_type": "display_data",
          "data": {
            "image/png": "[encoded data removed]",
            "text/plain": [
              "<Figure size 432x288 with 1 Axes>"
            ]
          },
          "metadata": {
            "needs_background": "light"
          }
        }
      ]
    },
    {
      "cell_type": "markdown",
      "metadata": {
        "id": "NqN2REVg6xM7"
      },
      "source": [
        "#### 1.42 More Histograms"
      ]
    },
    {
      "cell_type": "code",
      "metadata": {
        "id": "cGxxrtln66MY",
        "colab": {
          "base_uri": "https://localhost:8080/",
          "height": 282
        },
        "outputId": "081f93ef-fe4a-4abf-e045-7c725c53553e"
      },
      "source": [
        "# Example 1\n",
        "# ---\n",
        "# Question: Plot a histogram of target area during long rains in kisumu county.\n",
        "# Dataset url = http://bit.ly/Kisumu-crop-statistics\n",
        "# ---\n",
        "# \n",
        "\n",
        "# Plotting the histogram\n",
        "#\n",
        "kisumu['TARGET_AREA_HA_LONG_RAINS'].hist()"
      ],
      "execution_count": null,
      "outputs": [
        {
          "output_type": "execute_result",
          "data": {
            "text/plain": [
              "<matplotlib.axes._subplots.AxesSubplot at 0x7fbe38ec9590>"
            ]
          },
          "metadata": {},
          "execution_count": 52
        },
        {
          "output_type": "display_data",
          "data": {
            "image/png": "[encoded data removed]",
            "text/plain": [
              "<Figure size 432x288 with 1 Axes>"
            ]
          },
          "metadata": {
            "needs_background": "light"
          }
        }
      ]
    },
    {
      "cell_type": "code",
      "metadata": {
        "id": "31CPj4mFH2X2",
        "colab": {
          "base_uri": "https://localhost:8080/",
          "height": 275
        },
        "outputId": "7597df73-d22a-4caf-99fe-628937592c63"
      },
      "source": [
        "kisumu.head()"
      ],
      "execution_count": null,
      "outputs": [
        {
          "output_type": "execute_result",
          "data": {
            "text/html": [
              "<div>\n",
              "<style scoped>\n",
              "    .dataframe tbody tr th:only-of-type {\n",
              "        vertical-align: middle;\n",
              "    }\n",
              "\n",
              "    .dataframe tbody tr th {\n",
              "        vertical-align: top;\n",
              "    }\n",
              "\n",
              "    .dataframe thead th {\n",
              "        text-align: right;\n",
              "    }\n",
              "</style>\n",
              "<table border=\"1\" class=\"dataframe\">\n",
              "  <thead>\n",
              "    <tr style=\"text-align: right;\">\n",
              "      <th></th>\n",
              "      <th>SUB-COUNTY</th>\n",
              "      <th>PRODUCE</th>\n",
              "      <th>TARGET_AREA_HA_LONG_RAINS</th>\n",
              "      <th>TARGET_AREA_HA_SHORT_RAINS</th>\n",
              "      <th>TARGET_TOTAL_</th>\n",
              "      <th>TARGET_YIELD__BAG/HA_LONG_RAINS</th>\n",
              "      <th>TARGET_YIELD__BAG/HA_SHORT_RAINS</th>\n",
              "      <th>TARGET_PRODUCTION_BAGS_LONG_RAINS</th>\n",
              "      <th>TARGET_PRODUCTION_BAGS_SHORT_RAINS</th>\n",
              "      <th>TARGET_PRODUCTION_BAGS_TOTAL</th>\n",
              "      <th>ACHIEVEMENT_AREA_HA_LONG_RAINS</th>\n",
              "      <th>ACHIEVEMENT_AREA_HA_SHORT_RAINS</th>\n",
              "      <th>ACHIEVEMENT_TOTAL</th>\n",
              "      <th>PROJECTED_YIELD_BAG/HA_LONG_RAINS</th>\n",
              "      <th>PROJECTED_YIELD_BAG/HA_SHORT_RAINS</th>\n",
              "      <th>PROJECTED___PRODUCTION_BAGS_OF_90KG_EACH__LR</th>\n",
              "      <th>PROJECTED___PRODUCTION_BAGS_OF_90KG_EACH__SR</th>\n",
              "      <th>PROJECTED___PRODUCTION_BAGS_OF_90KG_EACH__TOTAL</th>\n",
              "      <th>PRICES_KSH/BAG_LONG_RAINS</th>\n",
              "      <th>PRICES_KSH/BAG_SHORT_RAINS</th>\n",
              "      <th>VALUE_KSH__LONG_RAINS</th>\n",
              "      <th>VALUE_KSH_SHORT_RAINS</th>\n",
              "      <th>VALUE_KSH_TOTAL</th>\n",
              "      <th>DATE</th>\n",
              "      <th>OBJECTID</th>\n",
              "    </tr>\n",
              "  </thead>\n",
              "  <tbody>\n",
              "    <tr>\n",
              "      <th>0</th>\n",
              "      <td>KISUMU WEST</td>\n",
              "      <td>Maize</td>\n",
              "      <td>8000</td>\n",
              "      <td>5000</td>\n",
              "      <td>6700</td>\n",
              "      <td>25</td>\n",
              "      <td>20</td>\n",
              "      <td>200000</td>\n",
              "      <td>100000</td>\n",
              "      <td>300000</td>\n",
              "      <td>7880</td>\n",
              "      <td>3000</td>\n",
              "      <td>10880</td>\n",
              "      <td>5</td>\n",
              "      <td>5.0</td>\n",
              "      <td>21670</td>\n",
              "      <td>25000.0</td>\n",
              "      <td>46670</td>\n",
              "      <td>0</td>\n",
              "      <td>0</td>\n",
              "      <td>0</td>\n",
              "      <td>0</td>\n",
              "      <td>0</td>\n",
              "      <td>9/16/16</td>\n",
              "      <td>0</td>\n",
              "    </tr>\n",
              "    <tr>\n",
              "      <th>1</th>\n",
              "      <td>SEME</td>\n",
              "      <td>Maize</td>\n",
              "      <td>8000</td>\n",
              "      <td>3500</td>\n",
              "      <td>13000</td>\n",
              "      <td>25</td>\n",
              "      <td>20</td>\n",
              "      <td>200000</td>\n",
              "      <td>70000</td>\n",
              "      <td>270000</td>\n",
              "      <td>7200</td>\n",
              "      <td>2000</td>\n",
              "      <td>9200</td>\n",
              "      <td>5</td>\n",
              "      <td>5.0</td>\n",
              "      <td>19800</td>\n",
              "      <td>17500.0</td>\n",
              "      <td>37300</td>\n",
              "      <td>0</td>\n",
              "      <td>0</td>\n",
              "      <td>0</td>\n",
              "      <td>0</td>\n",
              "      <td>0</td>\n",
              "      <td>9/16/16</td>\n",
              "      <td>1</td>\n",
              "    </tr>\n",
              "    <tr>\n",
              "      <th>2</th>\n",
              "      <td>KISUMU E</td>\n",
              "      <td>Maize</td>\n",
              "      <td>1500</td>\n",
              "      <td>750</td>\n",
              "      <td>2250</td>\n",
              "      <td>25</td>\n",
              "      <td>20</td>\n",
              "      <td>37500</td>\n",
              "      <td>15000</td>\n",
              "      <td>52500</td>\n",
              "      <td>1460</td>\n",
              "      <td>500</td>\n",
              "      <td>1960</td>\n",
              "      <td>5</td>\n",
              "      <td>5.0</td>\n",
              "      <td>4015</td>\n",
              "      <td>3750.0</td>\n",
              "      <td>7765</td>\n",
              "      <td>0</td>\n",
              "      <td>0</td>\n",
              "      <td>0</td>\n",
              "      <td>0</td>\n",
              "      <td>0</td>\n",
              "      <td>9/16/16</td>\n",
              "      <td>2</td>\n",
              "    </tr>\n",
              "    <tr>\n",
              "      <th>3</th>\n",
              "      <td>NYANDO</td>\n",
              "      <td>Maize</td>\n",
              "      <td>8200</td>\n",
              "      <td>4000</td>\n",
              "      <td>12200</td>\n",
              "      <td>25</td>\n",
              "      <td>20</td>\n",
              "      <td>205000</td>\n",
              "      <td>80000</td>\n",
              "      <td>285000</td>\n",
              "      <td>7640</td>\n",
              "      <td>1200</td>\n",
              "      <td>8840</td>\n",
              "      <td>5</td>\n",
              "      <td>5.0</td>\n",
              "      <td>21010</td>\n",
              "      <td>20000.0</td>\n",
              "      <td>41010</td>\n",
              "      <td>0</td>\n",
              "      <td>0</td>\n",
              "      <td>0</td>\n",
              "      <td>0</td>\n",
              "      <td>0</td>\n",
              "      <td>9/16/16</td>\n",
              "      <td>3</td>\n",
              "    </tr>\n",
              "    <tr>\n",
              "      <th>4</th>\n",
              "      <td>NYAKACH</td>\n",
              "      <td>Maize</td>\n",
              "      <td>10500</td>\n",
              "      <td>4500</td>\n",
              "      <td>15000</td>\n",
              "      <td>25</td>\n",
              "      <td>20</td>\n",
              "      <td>262500</td>\n",
              "      <td>90000</td>\n",
              "      <td>352500</td>\n",
              "      <td>9500</td>\n",
              "      <td>2400</td>\n",
              "      <td>11900</td>\n",
              "      <td>5</td>\n",
              "      <td>5.0</td>\n",
              "      <td>26125</td>\n",
              "      <td>22500.0</td>\n",
              "      <td>48625</td>\n",
              "      <td>0</td>\n",
              "      <td>0</td>\n",
              "      <td>0</td>\n",
              "      <td>0</td>\n",
              "      <td>0</td>\n",
              "      <td>9/16/16</td>\n",
              "      <td>4</td>\n",
              "    </tr>\n",
              "  </tbody>\n",
              "</table>\n",
              "</div>"
            ],
            "text/plain": [
              "    SUB-COUNTY PRODUCE  ...     DATE  OBJECTID\n",
              "0  KISUMU WEST   Maize  ...  9/16/16         0\n",
              "1         SEME   Maize  ...  9/16/16         1\n",
              "2     KISUMU E   Maize  ...  9/16/16         2\n",
              "3       NYANDO   Maize  ...  9/16/16         3\n",
              "4      NYAKACH   Maize  ...  9/16/16         4\n",
              "\n",
              "[5 rows x 25 columns]"
            ]
          },
          "metadata": {},
          "execution_count": 51
        }
      ]
    },
    {
      "cell_type": "code",
      "metadata": {
        "id": "jZ_y-wGN7Pro",
        "colab": {
          "base_uri": "https://localhost:8080/",
          "height": 351
        },
        "outputId": "2bf171a6-aefc-4293-f3c2-304877952a5d"
      },
      "source": [
        "# Example 2\n",
        "# ---\n",
        "# Question: Using Seaborn, Plot a histogram of target area for maize during long rains in kisumu county\n",
        "# ---\n",
        "#\n",
        "\n",
        "# Plotting our histogram\n",
        "#\n",
        "df = kisumu[kisumu.PRODUCE == 'Maize']\n",
        "sns.distplot(kisumu['TARGET_AREA_HA_LONG_RAINS'],  kde=False,label='Maize')"
      ],
      "execution_count": null,
      "outputs": [
        {
          "output_type": "stream",
          "name": "stderr",
          "text": [
            "/usr/local/lib/python3.7/dist-packages/seaborn/distributions.py:2557: FutureWarning: `distplot` is a deprecated function and will be removed in a future version. Please adapt your code to use either `displot` (a figure-level function with similar flexibility) or `histplot` (an axes-level function for histograms).\n",
            "  warnings.warn(msg, FutureWarning)\n"
          ]
        },
        {
          "output_type": "execute_result",
          "data": {
            "text/plain": [
              "<matplotlib.axes._subplots.AxesSubplot at 0x7fbe38c99a50>"
            ]
          },
          "metadata": {},
          "execution_count": 54
        },
        {
          "output_type": "display_data",
          "data": {
            "image/png": "[encoded data removed]",
            "text/plain": [
              "<Figure size 432x288 with 1 Axes>"
            ]
          },
          "metadata": {
            "needs_background": "light"
          }
        }
      ]
    },
    {
      "cell_type": "code",
      "metadata": {
        "id": "c2ltOQmDjX45"
      },
      "source": [
        "plt.hist(population_ages, bins=10, histtype='bar', rwidth=0.9)\n",
        "\n",
        "plt.xlabel('x')\n",
        "plt.ylabel('y')\n",
        "plt.title('Histogram of Population') \n",
        "plt.show()"
      ],
      "execution_count": null,
      "outputs": []
    },
    {
      "cell_type": "markdown",
      "metadata": {
        "id": "uXIKUeun7Tz6"
      },
      "source": [
        "#### <font color=\"green\">1.43 Challenges</font>"
      ]
    },
    {
      "cell_type": "code",
      "metadata": {
        "id": "c20egYFA7ZQA",
        "colab": {
          "base_uri": "https://localhost:8080/",
          "height": 282
        },
        "outputId": "18204f3f-08ac-40d7-ea78-ce603fea4bc5"
      },
      "source": [
        "# Challenge 1\n",
        "# ---\n",
        "# Question: Plot a histogram of weight in kgs for fish production\n",
        "# Dataset url = \"http://bit.ly/Kisumu-fish-production\"\n",
        "# ---\n",
        "#\n",
        "fish=pd.read_csv('http://bit.ly/Kisumu-fish-production')\n",
        "fish.head()\n",
        "fish['WEIGHT_KGS'].hist()"
      ],
      "execution_count": null,
      "outputs": [
        {
          "output_type": "execute_result",
          "data": {
            "text/plain": [
              "<matplotlib.axes._subplots.AxesSubplot at 0x7fbe38bd8cd0>"
            ]
          },
          "metadata": {},
          "execution_count": 56
        },
        {
          "output_type": "display_data",
          "data": {
            "image/png": "[encoded data removed]",
            "text/plain": [
              "<Figure size 432x288 with 1 Axes>"
            ]
          },
          "metadata": {
            "needs_background": "light"
          }
        }
      ]
    },
    {
      "cell_type": "code",
      "metadata": {
        "id": "8_NmsQOu7aTW",
        "colab": {
          "base_uri": "https://localhost:8080/",
          "height": 282
        },
        "outputId": "56c0e8cc-96b0-41e7-9d2c-bb0c8f4b44a3"
      },
      "source": [
        "# Challenge 2\n",
        "# ---\n",
        "# Question: Plot a histogram of target yield bags during short rains.\n",
        "# Dataset url = \"http://bit.ly/Kisumu-crop-statistics\"\n",
        "# ---\n",
        "# \n",
        "kisumu['TARGET_YIELD__BAG/HA_SHORT_RAINS'].hist()"
      ],
      "execution_count": null,
      "outputs": [
        {
          "output_type": "execute_result",
          "data": {
            "text/plain": [
              "<matplotlib.axes._subplots.AxesSubplot at 0x7fbe38b5b990>"
            ]
          },
          "metadata": {},
          "execution_count": 57
        },
        {
          "output_type": "display_data",
          "data": {
            "image/png": "[encoded data removed]",
            "text/plain": [
              "<Figure size 432x288 with 1 Axes>"
            ]
          },
          "metadata": {
            "needs_background": "light"
          }
        }
      ]
    },
    {
      "cell_type": "markdown",
      "metadata": {
        "id": "y2tpmU6oFKHX"
      },
      "source": [
        ""
      ]
    },
    {
      "cell_type": "code",
      "metadata": {
        "id": "gOGG_XWoFKiM"
      },
      "source": [
        ""
      ],
      "execution_count": null,
      "outputs": []
    }
  ]
}